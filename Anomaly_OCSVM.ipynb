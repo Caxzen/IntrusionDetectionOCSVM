{
 "cells": [
  {
   "cell_type": "code",
   "execution_count": 1,
   "metadata": {},
   "outputs": [],
   "source": [
    "import numpy as np  \n",
    "import pandas as pd  \n",
    "from sklearn import utils  \n",
    "import matplotlib.pyplot as plt"
   ]
  },
  {
   "cell_type": "code",
   "execution_count": 2,
   "metadata": {},
   "outputs": [
    {
     "data": {
      "text/plain": [
       "0          normal\n",
       "1          normal\n",
       "2         neptune\n",
       "3          normal\n",
       "4          normal\n",
       "           ...   \n",
       "125968    neptune\n",
       "125969     normal\n",
       "125970     normal\n",
       "125971    neptune\n",
       "125972     normal\n",
       "Name: labels, Length: 125973, dtype: object"
      ]
     },
     "execution_count": 2,
     "metadata": {},
     "output_type": "execute_result"
    }
   ],
   "source": [
    "read_data =pd.read_csv(\"kdd_train.csv\",low_memory=False)\n",
    "read_data[\"labels\"]"
   ]
  },
  {
   "cell_type": "code",
   "execution_count": 3,
   "metadata": {},
   "outputs": [],
   "source": [
    "read_data = read_data[read_data['service'] == \"http\"]\n",
    "read_data = read_data[read_data[\"logged_in\"] == 1]"
   ]
  },
  {
   "cell_type": "code",
   "execution_count": 4,
   "metadata": {},
   "outputs": [],
   "source": [
    "applicable_features = [  \n",
    "    \"duration\",\n",
    "    \"src_bytes\",\n",
    "    \"dst_bytes\",\n",
    "    \"labels\"]"
   ]
  },
  {
   "cell_type": "code",
   "execution_count": 5,
   "metadata": {},
   "outputs": [
    {
     "data": {
      "text/html": [
       "<div>\n",
       "<style scoped>\n",
       "    .dataframe tbody tr th:only-of-type {\n",
       "        vertical-align: middle;\n",
       "    }\n",
       "\n",
       "    .dataframe tbody tr th {\n",
       "        vertical-align: top;\n",
       "    }\n",
       "\n",
       "    .dataframe thead th {\n",
       "        text-align: right;\n",
       "    }\n",
       "</style>\n",
       "<table border=\"1\" class=\"dataframe\">\n",
       "  <thead>\n",
       "    <tr style=\"text-align: right;\">\n",
       "      <th></th>\n",
       "      <th>duration</th>\n",
       "      <th>src_bytes</th>\n",
       "      <th>dst_bytes</th>\n",
       "      <th>labels</th>\n",
       "    </tr>\n",
       "  </thead>\n",
       "  <tbody>\n",
       "    <tr>\n",
       "      <th>3</th>\n",
       "      <td>0</td>\n",
       "      <td>232</td>\n",
       "      <td>8153</td>\n",
       "      <td>normal</td>\n",
       "    </tr>\n",
       "    <tr>\n",
       "      <th>4</th>\n",
       "      <td>0</td>\n",
       "      <td>199</td>\n",
       "      <td>420</td>\n",
       "      <td>normal</td>\n",
       "    </tr>\n",
       "    <tr>\n",
       "      <th>12</th>\n",
       "      <td>0</td>\n",
       "      <td>287</td>\n",
       "      <td>2251</td>\n",
       "      <td>normal</td>\n",
       "    </tr>\n",
       "    <tr>\n",
       "      <th>16</th>\n",
       "      <td>0</td>\n",
       "      <td>300</td>\n",
       "      <td>13788</td>\n",
       "      <td>normal</td>\n",
       "    </tr>\n",
       "    <tr>\n",
       "      <th>18</th>\n",
       "      <td>0</td>\n",
       "      <td>233</td>\n",
       "      <td>616</td>\n",
       "      <td>normal</td>\n",
       "    </tr>\n",
       "    <tr>\n",
       "      <th>...</th>\n",
       "      <td>...</td>\n",
       "      <td>...</td>\n",
       "      <td>...</td>\n",
       "      <td>...</td>\n",
       "    </tr>\n",
       "    <tr>\n",
       "      <th>125959</th>\n",
       "      <td>0</td>\n",
       "      <td>373</td>\n",
       "      <td>4777</td>\n",
       "      <td>normal</td>\n",
       "    </tr>\n",
       "    <tr>\n",
       "      <th>125960</th>\n",
       "      <td>0</td>\n",
       "      <td>329</td>\n",
       "      <td>885</td>\n",
       "      <td>normal</td>\n",
       "    </tr>\n",
       "    <tr>\n",
       "      <th>125961</th>\n",
       "      <td>0</td>\n",
       "      <td>236</td>\n",
       "      <td>2698</td>\n",
       "      <td>normal</td>\n",
       "    </tr>\n",
       "    <tr>\n",
       "      <th>125963</th>\n",
       "      <td>0</td>\n",
       "      <td>334</td>\n",
       "      <td>1600</td>\n",
       "      <td>normal</td>\n",
       "    </tr>\n",
       "    <tr>\n",
       "      <th>125967</th>\n",
       "      <td>0</td>\n",
       "      <td>359</td>\n",
       "      <td>375</td>\n",
       "      <td>normal</td>\n",
       "    </tr>\n",
       "  </tbody>\n",
       "</table>\n",
       "<p>36069 rows × 4 columns</p>\n",
       "</div>"
      ],
      "text/plain": [
       "        duration  src_bytes  dst_bytes  labels\n",
       "3              0        232       8153  normal\n",
       "4              0        199        420  normal\n",
       "12             0        287       2251  normal\n",
       "16             0        300      13788  normal\n",
       "18             0        233        616  normal\n",
       "...          ...        ...        ...     ...\n",
       "125959         0        373       4777  normal\n",
       "125960         0        329        885  normal\n",
       "125961         0        236       2698  normal\n",
       "125963         0        334       1600  normal\n",
       "125967         0        359        375  normal\n",
       "\n",
       "[36069 rows x 4 columns]"
      ]
     },
     "execution_count": 5,
     "metadata": {},
     "output_type": "execute_result"
    }
   ],
   "source": [
    "read_data = read_data[applicable_features]\n",
    "read_data"
   ]
  },
  {
   "cell_type": "code",
   "execution_count": 6,
   "metadata": {},
   "outputs": [],
   "source": [
    "read_data[\"duration\"] = np.log((read_data[\"duration\"] + 0.1).astype(float))  \n",
    "read_data[\"src_bytes\"] = np.log((read_data[\"src_bytes\"] + 0.1).astype(float))  \n",
    "read_data[\"dst_bytes\"] = np.log((read_data[\"dst_bytes\"] + 0.1).astype(float)) "
   ]
  },
  {
   "cell_type": "code",
   "execution_count": 7,
   "metadata": {},
   "outputs": [
    {
     "data": {
      "text/plain": [
       "<bound method NDFrame.head of         duration  src_bytes  dst_bytes  labels\n",
       "3      -2.302585   5.447168   9.006154  normal\n",
       "4      -2.302585   5.293807   6.040493  normal\n",
       "12     -2.302585   5.659831   7.719174  normal\n",
       "16     -2.302585   5.704116   9.531561  normal\n",
       "18     -2.302585   5.451468   6.423409  normal\n",
       "...          ...        ...        ...     ...\n",
       "125959 -2.302585   5.921846   8.471589  normal\n",
       "125960 -2.302585   5.796362   6.785701  normal\n",
       "125961 -2.302585   5.464255   7.900303  normal\n",
       "125963 -2.302585   5.811440   7.377821  normal\n",
       "125967 -2.302585   5.883601   5.927193  normal\n",
       "\n",
       "[36069 rows x 4 columns]>"
      ]
     },
     "execution_count": 7,
     "metadata": {},
     "output_type": "execute_result"
    }
   ],
   "source": [
    "read_data.head"
   ]
  },
  {
   "cell_type": "code",
   "execution_count": 8,
   "metadata": {},
   "outputs": [
    {
     "data": {
      "text/html": [
       "<div>\n",
       "<style scoped>\n",
       "    .dataframe tbody tr th:only-of-type {\n",
       "        vertical-align: middle;\n",
       "    }\n",
       "\n",
       "    .dataframe tbody tr th {\n",
       "        vertical-align: top;\n",
       "    }\n",
       "\n",
       "    .dataframe thead th {\n",
       "        text-align: right;\n",
       "    }\n",
       "</style>\n",
       "<table border=\"1\" class=\"dataframe\">\n",
       "  <thead>\n",
       "    <tr style=\"text-align: right;\">\n",
       "      <th></th>\n",
       "      <th>duration</th>\n",
       "      <th>src_bytes</th>\n",
       "      <th>dst_bytes</th>\n",
       "      <th>labels</th>\n",
       "      <th>traffic_behaviour</th>\n",
       "    </tr>\n",
       "  </thead>\n",
       "  <tbody>\n",
       "    <tr>\n",
       "      <th>3</th>\n",
       "      <td>-2.302585</td>\n",
       "      <td>5.447168</td>\n",
       "      <td>9.006154</td>\n",
       "      <td>normal</td>\n",
       "      <td>1.0</td>\n",
       "    </tr>\n",
       "    <tr>\n",
       "      <th>4</th>\n",
       "      <td>-2.302585</td>\n",
       "      <td>5.293807</td>\n",
       "      <td>6.040493</td>\n",
       "      <td>normal</td>\n",
       "      <td>1.0</td>\n",
       "    </tr>\n",
       "    <tr>\n",
       "      <th>12</th>\n",
       "      <td>-2.302585</td>\n",
       "      <td>5.659831</td>\n",
       "      <td>7.719174</td>\n",
       "      <td>normal</td>\n",
       "      <td>1.0</td>\n",
       "    </tr>\n",
       "    <tr>\n",
       "      <th>16</th>\n",
       "      <td>-2.302585</td>\n",
       "      <td>5.704116</td>\n",
       "      <td>9.531561</td>\n",
       "      <td>normal</td>\n",
       "      <td>1.0</td>\n",
       "    </tr>\n",
       "    <tr>\n",
       "      <th>18</th>\n",
       "      <td>-2.302585</td>\n",
       "      <td>5.451468</td>\n",
       "      <td>6.423409</td>\n",
       "      <td>normal</td>\n",
       "      <td>1.0</td>\n",
       "    </tr>\n",
       "    <tr>\n",
       "      <th>...</th>\n",
       "      <td>...</td>\n",
       "      <td>...</td>\n",
       "      <td>...</td>\n",
       "      <td>...</td>\n",
       "      <td>...</td>\n",
       "    </tr>\n",
       "    <tr>\n",
       "      <th>125959</th>\n",
       "      <td>-2.302585</td>\n",
       "      <td>5.921846</td>\n",
       "      <td>8.471589</td>\n",
       "      <td>normal</td>\n",
       "      <td>1.0</td>\n",
       "    </tr>\n",
       "    <tr>\n",
       "      <th>125960</th>\n",
       "      <td>-2.302585</td>\n",
       "      <td>5.796362</td>\n",
       "      <td>6.785701</td>\n",
       "      <td>normal</td>\n",
       "      <td>1.0</td>\n",
       "    </tr>\n",
       "    <tr>\n",
       "      <th>125961</th>\n",
       "      <td>-2.302585</td>\n",
       "      <td>5.464255</td>\n",
       "      <td>7.900303</td>\n",
       "      <td>normal</td>\n",
       "      <td>1.0</td>\n",
       "    </tr>\n",
       "    <tr>\n",
       "      <th>125963</th>\n",
       "      <td>-2.302585</td>\n",
       "      <td>5.811440</td>\n",
       "      <td>7.377821</td>\n",
       "      <td>normal</td>\n",
       "      <td>1.0</td>\n",
       "    </tr>\n",
       "    <tr>\n",
       "      <th>125967</th>\n",
       "      <td>-2.302585</td>\n",
       "      <td>5.883601</td>\n",
       "      <td>5.927193</td>\n",
       "      <td>normal</td>\n",
       "      <td>1.0</td>\n",
       "    </tr>\n",
       "  </tbody>\n",
       "</table>\n",
       "<p>36069 rows × 5 columns</p>\n",
       "</div>"
      ],
      "text/plain": [
       "        duration  src_bytes  dst_bytes  labels  traffic_behaviour\n",
       "3      -2.302585   5.447168   9.006154  normal                1.0\n",
       "4      -2.302585   5.293807   6.040493  normal                1.0\n",
       "12     -2.302585   5.659831   7.719174  normal                1.0\n",
       "16     -2.302585   5.704116   9.531561  normal                1.0\n",
       "18     -2.302585   5.451468   6.423409  normal                1.0\n",
       "...          ...        ...        ...     ...                ...\n",
       "125959 -2.302585   5.921846   8.471589  normal                1.0\n",
       "125960 -2.302585   5.796362   6.785701  normal                1.0\n",
       "125961 -2.302585   5.464255   7.900303  normal                1.0\n",
       "125963 -2.302585   5.811440   7.377821  normal                1.0\n",
       "125967 -2.302585   5.883601   5.927193  normal                1.0\n",
       "\n",
       "[36069 rows x 5 columns]"
      ]
     },
     "execution_count": 8,
     "metadata": {},
     "output_type": "execute_result"
    }
   ],
   "source": [
    "read_data.loc[read_data['labels'] == \"normal\", \"traffic_behaviour\"] = 1  \n",
    "read_data.loc[read_data['labels'] != \"normal\", \"traffic_behaviour\"] = -1\n",
    "read_data"
   ]
  },
  {
   "cell_type": "code",
   "execution_count": 9,
   "metadata": {},
   "outputs": [],
   "source": [
    "target = read_data['traffic_behaviour']\n"
   ]
  },
  {
   "cell_type": "code",
   "execution_count": 10,
   "metadata": {},
   "outputs": [
    {
     "name": "stdout",
     "output_type": "stream",
     "text": [
      "outliers.shape (964,)\n",
      "outlier fraction 0.026726551886661676\n"
     ]
    }
   ],
   "source": [
    "outliers = target[target == -1]  \n",
    "print(\"outliers.shape\", outliers.shape)  \n",
    "print(\"outlier fraction\", outliers.shape[0]/target.shape[0])"
   ]
  },
  {
   "cell_type": "code",
   "execution_count": 11,
   "metadata": {},
   "outputs": [
    {
     "data": {
      "text/plain": [
       "(36069, 3)"
      ]
     },
     "execution_count": 11,
     "metadata": {},
     "output_type": "execute_result"
    }
   ],
   "source": [
    "read_data.drop([\"labels\",\"traffic_behaviour\"], axis=1, inplace=True)\n",
    "\n",
    "read_data.shape  \n"
   ]
  },
  {
   "cell_type": "code",
   "execution_count": 12,
   "metadata": {},
   "outputs": [
    {
     "data": {
      "text/plain": [
       "(28855, 3)"
      ]
     },
     "execution_count": 12,
     "metadata": {},
     "output_type": "execute_result"
    }
   ],
   "source": [
    "from sklearn.model_selection import train_test_split  \n",
    "train_data, test_data, train_target, test_target = train_test_split(read_data, target, train_size = 0.8)  \n",
    "train_data.shape  "
   ]
  },
  {
   "cell_type": "code",
   "execution_count": 13,
   "metadata": {},
   "outputs": [
    {
     "data": {
      "text/plain": [
       "<bound method NDFrame.tail of         duration  src_bytes  dst_bytes\n",
       "117820 -2.302585   5.215479   7.118907\n",
       "71978  -2.302585   5.799396   7.116475\n",
       "6301   -2.302585   5.613493   8.484897\n",
       "63784   3.437208   5.557214   8.561803\n",
       "77339  -2.302585   5.704116   7.210892\n",
       "...          ...        ...        ...\n",
       "25538  -2.302585   5.759217   5.635147\n",
       "77395  -2.302585   5.333202   7.435497\n",
       "40641  -2.302585   5.384954   9.624309\n",
       "71567  -2.302585   5.777962   5.723912\n",
       "116207 -2.302585   5.375741   6.598645\n",
       "\n",
       "[28855 rows x 3 columns]>"
      ]
     },
     "execution_count": 13,
     "metadata": {},
     "output_type": "execute_result"
    }
   ],
   "source": [
    "train_data.tail\n"
   ]
  },
  {
   "cell_type": "code",
   "execution_count": 14,
   "metadata": {},
   "outputs": [
    {
     "name": "stdout",
     "output_type": "stream",
     "text": [
      "The calculated values of nu is: 0.026726551886661676\n"
     ]
    },
    {
     "data": {
      "text/html": [
       "<style>#sk-container-id-1 {color: black;background-color: white;}#sk-container-id-1 pre{padding: 0;}#sk-container-id-1 div.sk-toggleable {background-color: white;}#sk-container-id-1 label.sk-toggleable__label {cursor: pointer;display: block;width: 100%;margin-bottom: 0;padding: 0.3em;box-sizing: border-box;text-align: center;}#sk-container-id-1 label.sk-toggleable__label-arrow:before {content: \"▸\";float: left;margin-right: 0.25em;color: #696969;}#sk-container-id-1 label.sk-toggleable__label-arrow:hover:before {color: black;}#sk-container-id-1 div.sk-estimator:hover label.sk-toggleable__label-arrow:before {color: black;}#sk-container-id-1 div.sk-toggleable__content {max-height: 0;max-width: 0;overflow: hidden;text-align: left;background-color: #f0f8ff;}#sk-container-id-1 div.sk-toggleable__content pre {margin: 0.2em;color: black;border-radius: 0.25em;background-color: #f0f8ff;}#sk-container-id-1 input.sk-toggleable__control:checked~div.sk-toggleable__content {max-height: 200px;max-width: 100%;overflow: auto;}#sk-container-id-1 input.sk-toggleable__control:checked~label.sk-toggleable__label-arrow:before {content: \"▾\";}#sk-container-id-1 div.sk-estimator input.sk-toggleable__control:checked~label.sk-toggleable__label {background-color: #d4ebff;}#sk-container-id-1 div.sk-label input.sk-toggleable__control:checked~label.sk-toggleable__label {background-color: #d4ebff;}#sk-container-id-1 input.sk-hidden--visually {border: 0;clip: rect(1px 1px 1px 1px);clip: rect(1px, 1px, 1px, 1px);height: 1px;margin: -1px;overflow: hidden;padding: 0;position: absolute;width: 1px;}#sk-container-id-1 div.sk-estimator {font-family: monospace;background-color: #f0f8ff;border: 1px dotted black;border-radius: 0.25em;box-sizing: border-box;margin-bottom: 0.5em;}#sk-container-id-1 div.sk-estimator:hover {background-color: #d4ebff;}#sk-container-id-1 div.sk-parallel-item::after {content: \"\";width: 100%;border-bottom: 1px solid gray;flex-grow: 1;}#sk-container-id-1 div.sk-label:hover label.sk-toggleable__label {background-color: #d4ebff;}#sk-container-id-1 div.sk-serial::before {content: \"\";position: absolute;border-left: 1px solid gray;box-sizing: border-box;top: 0;bottom: 0;left: 50%;z-index: 0;}#sk-container-id-1 div.sk-serial {display: flex;flex-direction: column;align-items: center;background-color: white;padding-right: 0.2em;padding-left: 0.2em;position: relative;}#sk-container-id-1 div.sk-item {position: relative;z-index: 1;}#sk-container-id-1 div.sk-parallel {display: flex;align-items: stretch;justify-content: center;background-color: white;position: relative;}#sk-container-id-1 div.sk-item::before, #sk-container-id-1 div.sk-parallel-item::before {content: \"\";position: absolute;border-left: 1px solid gray;box-sizing: border-box;top: 0;bottom: 0;left: 50%;z-index: -1;}#sk-container-id-1 div.sk-parallel-item {display: flex;flex-direction: column;z-index: 1;position: relative;background-color: white;}#sk-container-id-1 div.sk-parallel-item:first-child::after {align-self: flex-end;width: 50%;}#sk-container-id-1 div.sk-parallel-item:last-child::after {align-self: flex-start;width: 50%;}#sk-container-id-1 div.sk-parallel-item:only-child::after {width: 0;}#sk-container-id-1 div.sk-dashed-wrapped {border: 1px dashed gray;margin: 0 0.4em 0.5em 0.4em;box-sizing: border-box;padding-bottom: 0.4em;background-color: white;}#sk-container-id-1 div.sk-label label {font-family: monospace;font-weight: bold;display: inline-block;line-height: 1.2em;}#sk-container-id-1 div.sk-label-container {text-align: center;}#sk-container-id-1 div.sk-container {/* jupyter's `normalize.less` sets `[hidden] { display: none; }` but bootstrap.min.css set `[hidden] { display: none !important; }` so we also need the `!important` here to be able to override the default hidden behavior on the sphinx rendered scikit-learn.org. See: https://github.com/scikit-learn/scikit-learn/issues/21755 */display: inline-block !important;position: relative;}#sk-container-id-1 div.sk-text-repr-fallback {display: none;}</style><div id=\"sk-container-id-1\" class=\"sk-top-container\"><div class=\"sk-text-repr-fallback\"><pre>OneClassSVM(gamma=5e-05, nu=0.026726551886661676)</pre><b>In a Jupyter environment, please rerun this cell to show the HTML representation or trust the notebook. <br />On GitHub, the HTML representation is unable to render, please try loading this page with nbviewer.org.</b></div><div class=\"sk-container\" hidden><div class=\"sk-item\"><div class=\"sk-estimator sk-toggleable\"><input class=\"sk-toggleable__control sk-hidden--visually\" id=\"sk-estimator-id-1\" type=\"checkbox\" checked><label for=\"sk-estimator-id-1\" class=\"sk-toggleable__label sk-toggleable__label-arrow\">OneClassSVM</label><div class=\"sk-toggleable__content\"><pre>OneClassSVM(gamma=5e-05, nu=0.026726551886661676)</pre></div></div></div></div></div>"
      ],
      "text/plain": [
       "OneClassSVM(gamma=5e-05, nu=0.026726551886661676)"
      ]
     },
     "execution_count": 14,
     "metadata": {},
     "output_type": "execute_result"
    }
   ],
   "source": [
    "from sklearn import svm\n",
    "nu = outliers.shape[0] / target.shape[0]  \n",
    "print(\"The calculated values of nu is:\", nu)\n",
    "\n",
    "model = svm.OneClassSVM(nu=nu, kernel='rbf', gamma=0.00005)  \n",
    "model.fit(train_data)  \n"
   ]
  },
  {
   "cell_type": "code",
   "execution_count": 15,
   "metadata": {},
   "outputs": [],
   "source": [
    "from sklearn import metrics  \n",
    "values_preds = model.predict(train_data)  \n",
    "values_targs = train_target"
   ]
  },
  {
   "cell_type": "code",
   "execution_count": 16,
   "metadata": {},
   "outputs": [
    {
     "name": "stdout",
     "output_type": "stream",
     "text": [
      "Training DataSET accuracy:  98.30531970195807\n",
      "Training DataSET Precision:  99.76183602771363\n",
      "Training DataSET Recall:  98.49299939434964\n",
      "Training DataSET f1:  99.12335741560746\n"
     ]
    }
   ],
   "source": [
    "print(\"Training DataSET accuracy: \", 100 *  metrics.accuracy_score(values_targs, values_preds))\n",
    "print(\"Training DataSET Precision: \",100 * metrics.precision_score(values_targs, values_preds))\n",
    "print(\"Training DataSET Recall: \", 100 * metrics.recall_score(values_targs, values_preds))\n",
    "print(\"Training DataSET f1: \", 100 * metrics.f1_score(values_targs, values_preds))"
   ]
  },
  {
   "cell_type": "code",
   "execution_count": 17,
   "metadata": {},
   "outputs": [],
   "source": [
    "values_preds = model.predict(test_data)  \n",
    "values_targs = test_target"
   ]
  },
  {
   "cell_type": "code",
   "execution_count": 18,
   "metadata": {},
   "outputs": [
    {
     "name": "stdout",
     "output_type": "stream",
     "text": [
      "Test DataSet Accuracy:  98.28112004435819\n",
      "Test DataSet Precision:  99.85574148874784\n",
      "Test DataSet Recall:  98.37976122797045\n",
      "Test DataSet F1:  99.1122565864834\n"
     ]
    }
   ],
   "source": [
    "print(\"Test DataSet Accuracy: \", 100 * metrics.accuracy_score(values_targs, values_preds))\n",
    "print(\"Test DataSet Precision: \", 100 * metrics.precision_score(values_targs, values_preds))\n",
    "print(\"Test DataSet Recall: \", 100 * metrics.recall_score(values_targs, values_preds))\n",
    "print(\"Test DataSet F1: \", 100 * metrics.f1_score(values_targs, values_preds))"
   ]
  },
  {
   "cell_type": "code",
   "execution_count": 19,
   "metadata": {},
   "outputs": [],
   "source": [
    "confusion_matrix = metrics.confusion_matrix(values_targs, values_preds)\n"
   ]
  },
  {
   "cell_type": "code",
   "execution_count": 20,
   "metadata": {},
   "outputs": [
    {
     "data": {
      "image/png": "[encoded data removed]",
      "text/plain": [
       "<Figure size 640x480 with 2 Axes>"
      ]
     },
     "metadata": {},
     "output_type": "display_data"
    }
   ],
   "source": [
    "cm_display = metrics.ConfusionMatrixDisplay(confusion_matrix = confusion_matrix, display_labels = [False, True])\n",
    "\n",
    "cm_display.plot()\n",
    "plt.show()"
   ]
  },
  {
   "cell_type": "code",
   "execution_count": null,
   "metadata": {},
   "outputs": [],
   "source": []
  }
 ],
 "metadata": {
  "kernelspec": {
   "display_name": "Python 3",
   "language": "python",
   "name": "python3"
  },
  "language_info": {
   "codemirror_mode": {
    "name": "ipython",
    "version": 3
   },
   "file_extension": ".py",
   "mimetype": "text/x-python",
   "name": "python",
   "nbconvert_exporter": "python",
   "pygments_lexer": "ipython3",
   "version": "3.10.10"
  },
  "orig_nbformat": 4,
  "vscode": {
   "interpreter": {
    "hash": "f23f6f0a21997cf209f69231f23f83bd87b404ee13bdb9c7828dc0d92154bbbe"
   }
  }
 },
 "nbformat": 4,
 "nbformat_minor": 2
}
